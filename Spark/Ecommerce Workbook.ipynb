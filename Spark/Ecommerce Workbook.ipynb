{
 "cells": [
  {
   "cell_type": "code",
   "execution_count": 1,
   "id": "e4221a9e",
   "metadata": {},
   "outputs": [
    {
     "name": "stderr",
     "output_type": "stream",
     "text": [
      "Setting default log level to \"WARN\".\n",
      "To adjust logging level use sc.setLogLevel(newLevel). For SparkR, use setLogLevel(newLevel).\n",
      "23/11/15 12:17:52 WARN NativeCodeLoader: Unable to load native-hadoop library for your platform... using builtin-java classes where applicable\n"
     ]
    }
   ],
   "source": [
    "##Import pyspark and create SparkSession\n",
    "from pyspark.sql import SparkSession\n",
    "spark = SparkSession.builder.appName(\"Datacamp Pyspark Tutorial\").config(\"spark.memory.offHeap.enabled\",\"true\").config(\"spark.memory.offHeap.size\",\"10g\").getOrCreate()\n"
   ]
  },
  {
   "cell_type": "code",
   "execution_count": 2,
   "id": "0d84df91",
   "metadata": {},
   "outputs": [],
   "source": [
    "#Create Spark DataFrame\n",
    "df = spark.read.csv('/Users/victornneji/Documents/Data Science with Python/Spark/online_retail.csv',header=True,escape=\"\\\"\")"
   ]
  },
  {
   "cell_type": "code",
   "execution_count": 3,
   "id": "49f058e3",
   "metadata": {},
   "outputs": [
    {
     "name": "stdout",
     "output_type": "stream",
     "text": [
      "+---------+---------+-----------------------------------+--------+------------+---------+----------+--------------+\n",
      "|InvoiceNo|StockCode|Description                        |Quantity|InvoiceDate |UnitPrice|CustomerID|Country       |\n",
      "+---------+---------+-----------------------------------+--------+------------+---------+----------+--------------+\n",
      "|536365   |85123A   |WHITE HANGING HEART T-LIGHT HOLDER |6       |12/1/10 8:26|2.55     |17850     |United Kingdom|\n",
      "|536365   |71053    |WHITE METAL LANTERN                |6       |12/1/10 8:26|3.39     |17850     |United Kingdom|\n",
      "|536365   |84406B   |CREAM CUPID HEARTS COAT HANGER     |8       |12/1/10 8:26|2.75     |17850     |United Kingdom|\n",
      "|536365   |84029G   |KNITTED UNION FLAG HOT WATER BOTTLE|6       |12/1/10 8:26|3.39     |17850     |United Kingdom|\n",
      "|536365   |84029E   |RED WOOLLY HOTTIE WHITE HEART.     |6       |12/1/10 8:26|3.39     |17850     |United Kingdom|\n",
      "+---------+---------+-----------------------------------+--------+------------+---------+----------+--------------+\n",
      "only showing top 5 rows\n",
      "\n"
     ]
    }
   ],
   "source": [
    "#Show first 5 rows\n",
    "df.show(5,0)"
   ]
  },
  {
   "cell_type": "code",
   "execution_count": 4,
   "id": "01ff5f45",
   "metadata": {},
   "outputs": [
    {
     "data": {
      "text/plain": [
       "541909"
      ]
     },
     "execution_count": 4,
     "metadata": {},
     "output_type": "execute_result"
    }
   ],
   "source": [
    "#EDA\n",
    "#Show data count (no of rows)\n",
    "df.count()"
   ]
  },
  {
   "cell_type": "code",
   "execution_count": 5,
   "id": "aba5c00e",
   "metadata": {},
   "outputs": [
    {
     "name": "stderr",
     "output_type": "stream",
     "text": [
      "\r",
      "[Stage 5:=======>                                                   (1 + 7) / 8]\r",
      "\r",
      "                                                                                \r"
     ]
    },
    {
     "data": {
      "text/plain": [
       "4373"
      ]
     },
     "execution_count": 5,
     "metadata": {},
     "output_type": "execute_result"
    }
   ],
   "source": [
    "#Count distinct customer IDs\n",
    "df.select('CustomerID').distinct().count()"
   ]
  },
  {
   "cell_type": "code",
   "execution_count": 6,
   "id": "029fe9c1",
   "metadata": {},
   "outputs": [],
   "source": [
    "#Import Spark functions and types\n",
    "from pyspark.sql.functions import *\n",
    "from pyspark.sql.types import *"
   ]
  },
  {
   "cell_type": "code",
   "execution_count": 7,
   "id": "7856fbf2",
   "metadata": {},
   "outputs": [
    {
     "name": "stdout",
     "output_type": "stream",
     "text": [
      "+---------------+-------------+\n",
      "|        Country|country_count|\n",
      "+---------------+-------------+\n",
      "| United Kingdom|         3950|\n",
      "|        Germany|           95|\n",
      "|         France|           87|\n",
      "|          Spain|           31|\n",
      "|        Belgium|           25|\n",
      "|    Switzerland|           21|\n",
      "|       Portugal|           19|\n",
      "|          Italy|           15|\n",
      "|        Finland|           12|\n",
      "|        Austria|           11|\n",
      "|         Norway|           10|\n",
      "|        Denmark|            9|\n",
      "|Channel Islands|            9|\n",
      "|      Australia|            9|\n",
      "|    Netherlands|            9|\n",
      "|         Sweden|            8|\n",
      "|         Cyprus|            8|\n",
      "|          Japan|            8|\n",
      "|         Poland|            6|\n",
      "|         Greece|            4|\n",
      "+---------------+-------------+\n",
      "only showing top 20 rows\n",
      "\n"
     ]
    }
   ],
   "source": [
    "##Aggregations\n",
    "##Count of Unique Users, Grouped by Country\n",
    "df.groupBy('Country').agg(countDistinct('CustomerID').alias('country_count')).orderBy(desc('country_count')).show()"
   ]
  },
  {
   "cell_type": "code",
   "execution_count": 8,
   "id": "037f1895",
   "metadata": {},
   "outputs": [],
   "source": [
    "##Determine the features for the model\n",
    "##Recency\n",
    "##Convert InvoiceDate to standard datetime format\n",
    "spark.sql(\"set spark.sql.legacy.timeParserPolicy=LEGACY\")\n",
    "df2 = df.withColumn('date',to_timestamp(\"InvoiceDate\", 'MM/dd/yy HH:mm'))"
   ]
  },
  {
   "cell_type": "code",
   "execution_count": 9,
   "id": "9d5b6cbb",
   "metadata": {},
   "outputs": [
    {
     "name": "stdout",
     "output_type": "stream",
     "text": [
      "+---------+---------+--------------------+--------+------------+---------+----------+--------------+-------------------+\n",
      "|InvoiceNo|StockCode|         Description|Quantity| InvoiceDate|UnitPrice|CustomerID|       Country|               date|\n",
      "+---------+---------+--------------------+--------+------------+---------+----------+--------------+-------------------+\n",
      "|   536365|   85123A|WHITE HANGING HEA...|       6|12/1/10 8:26|     2.55|     17850|United Kingdom|2010-12-01 08:26:00|\n",
      "|   536365|    71053| WHITE METAL LANTERN|       6|12/1/10 8:26|     3.39|     17850|United Kingdom|2010-12-01 08:26:00|\n",
      "|   536365|   84406B|CREAM CUPID HEART...|       8|12/1/10 8:26|     2.75|     17850|United Kingdom|2010-12-01 08:26:00|\n",
      "|   536365|   84029G|KNITTED UNION FLA...|       6|12/1/10 8:26|     3.39|     17850|United Kingdom|2010-12-01 08:26:00|\n",
      "|   536365|   84029E|RED WOOLLY HOTTIE...|       6|12/1/10 8:26|     3.39|     17850|United Kingdom|2010-12-01 08:26:00|\n",
      "+---------+---------+--------------------+--------+------------+---------+----------+--------------+-------------------+\n",
      "only showing top 5 rows\n",
      "\n"
     ]
    }
   ],
   "source": [
    "df2.show(5)"
   ]
  },
  {
   "cell_type": "code",
   "execution_count": 10,
   "id": "df343ad9",
   "metadata": {},
   "outputs": [
    {
     "name": "stdout",
     "output_type": "stream",
     "text": [
      "+-------------------+\n",
      "|          max(date)|\n",
      "+-------------------+\n",
      "|2011-12-09 12:50:00|\n",
      "+-------------------+\n",
      "\n"
     ]
    }
   ],
   "source": [
    "##See latest date a purchase was made\n",
    "df2.select(max(\"date\")).show()"
   ]
  },
  {
   "cell_type": "code",
   "execution_count": 11,
   "id": "6090073b",
   "metadata": {},
   "outputs": [
    {
     "name": "stdout",
     "output_type": "stream",
     "text": [
      "+-------------------+\n",
      "|          min(date)|\n",
      "+-------------------+\n",
      "|2010-12-01 08:26:00|\n",
      "+-------------------+\n",
      "\n"
     ]
    }
   ],
   "source": [
    "##See earliest date a purchase was made\n",
    "df2.select(min(\"date\")).show()"
   ]
  },
  {
   "cell_type": "code",
   "execution_count": 12,
   "id": "a0c76abc",
   "metadata": {},
   "outputs": [
    {
     "name": "stdout",
     "output_type": "stream",
     "text": [
      "+---------+---------+-------------------------------+--------+-------------+---------+----------+-------+-------------------+\n",
      "|InvoiceNo|StockCode|Description                    |Quantity|InvoiceDate  |UnitPrice|CustomerID|Country|date               |\n",
      "+---------+---------+-------------------------------+--------+-------------+---------+----------+-------+-------------------+\n",
      "|581587   |22730    |ALARM CLOCK BAKELIKE IVORY     |4       |12/9/11 12:50|3.75     |12680     |France |2011-12-09 12:50:00|\n",
      "|581587   |22631    |CIRCUS PARADE LUNCH BOX        |12      |12/9/11 12:50|1.95     |12680     |France |2011-12-09 12:50:00|\n",
      "|581587   |22556    |PLASTERS IN TIN CIRCUS PARADE  |12      |12/9/11 12:50|1.65     |12680     |France |2011-12-09 12:50:00|\n",
      "|581587   |22555    |PLASTERS IN TIN STRONGMAN      |12      |12/9/11 12:50|1.65     |12680     |France |2011-12-09 12:50:00|\n",
      "|581587   |22728    |ALARM CLOCK BAKELIKE PINK      |4       |12/9/11 12:50|3.75     |12680     |France |2011-12-09 12:50:00|\n",
      "|581587   |22727    |ALARM CLOCK BAKELIKE RED       |4       |12/9/11 12:50|3.75     |12680     |France |2011-12-09 12:50:00|\n",
      "|581587   |22726    |ALARM CLOCK BAKELIKE GREEN     |4       |12/9/11 12:50|3.75     |12680     |France |2011-12-09 12:50:00|\n",
      "|581587   |22367    |CHILDRENS APRON SPACEBOY DESIGN|8       |12/9/11 12:50|1.95     |12680     |France |2011-12-09 12:50:00|\n",
      "|581587   |22629    |SPACEBOY LUNCH BOX             |12      |12/9/11 12:50|1.95     |12680     |France |2011-12-09 12:50:00|\n",
      "|581587   |23256    |CHILDRENS CUTLERY SPACEBOY     |4       |12/9/11 12:50|4.15     |12680     |France |2011-12-09 12:50:00|\n",
      "+---------+---------+-------------------------------+--------+-------------+---------+----------+-------+-------------------+\n",
      "only showing top 10 rows\n",
      "\n"
     ]
    }
   ],
   "source": [
    "##Sort Dataframe by date\n",
    "df2.orderBy(desc(\"date\")).show(10,0)"
   ]
  },
  {
   "cell_type": "code",
   "execution_count": 13,
   "id": "51f8ef47",
   "metadata": {},
   "outputs": [],
   "source": [
    "#Add earliest Invoice date (from above) to each row\n",
    "df2 = df2.join(df2.select(min(\"date\").alias(\"from_date\")), how='leftouter')"
   ]
  },
  {
   "cell_type": "code",
   "execution_count": 14,
   "id": "4d3c32f5",
   "metadata": {},
   "outputs": [
    {
     "name": "stdout",
     "output_type": "stream",
     "text": [
      "+---------+---------+-------------------------------+--------+-------------+---------+----------+-------+-------------------+-------------------+\n",
      "|InvoiceNo|StockCode|Description                    |Quantity|InvoiceDate  |UnitPrice|CustomerID|Country|date               |from_date          |\n",
      "+---------+---------+-------------------------------+--------+-------------+---------+----------+-------+-------------------+-------------------+\n",
      "|581587   |22555    |PLASTERS IN TIN STRONGMAN      |12      |12/9/11 12:50|1.65     |12680     |France |2011-12-09 12:50:00|2010-12-01 08:26:00|\n",
      "|581587   |22367    |CHILDRENS APRON SPACEBOY DESIGN|8       |12/9/11 12:50|1.95     |12680     |France |2011-12-09 12:50:00|2010-12-01 08:26:00|\n",
      "|581587   |22728    |ALARM CLOCK BAKELIKE PINK      |4       |12/9/11 12:50|3.75     |12680     |France |2011-12-09 12:50:00|2010-12-01 08:26:00|\n",
      "|581587   |22631    |CIRCUS PARADE LUNCH BOX        |12      |12/9/11 12:50|1.95     |12680     |France |2011-12-09 12:50:00|2010-12-01 08:26:00|\n",
      "|581587   |22727    |ALARM CLOCK BAKELIKE RED       |4       |12/9/11 12:50|3.75     |12680     |France |2011-12-09 12:50:00|2010-12-01 08:26:00|\n",
      "+---------+---------+-------------------------------+--------+-------------+---------+----------+-------+-------------------+-------------------+\n",
      "only showing top 5 rows\n",
      "\n"
     ]
    }
   ],
   "source": [
    "df2.orderBy(desc(\"date\")).show(5,0)"
   ]
  },
  {
   "cell_type": "code",
   "execution_count": 15,
   "id": "9ff451e8",
   "metadata": {},
   "outputs": [],
   "source": [
    "#Compute Recency for each CustomerID:\n",
    "## 1. Compute recency for each invoice as invoice date - earliest date\n",
    "## 2. Get max recency for each CustomerID\n",
    "## 3. Join max recency to the DataFrame on CustomerID\n",
    "\n",
    "\n",
    "df2 = df2.join(df2.groupBy('CustomerID').agg(max(col(\"date\").cast(\"long\") - col('from_date').cast(\"long\")).alias('recency')),on='CustomerID',how='leftouter')\n"
   ]
  },
  {
   "cell_type": "code",
   "execution_count": 16,
   "id": "36a65efe",
   "metadata": {},
   "outputs": [
    {
     "name": "stdout",
     "output_type": "stream",
     "text": [
      "+----------+---------+---------+--------------------+--------+------------+---------+--------------+-------------------+-------------------+-------+\n",
      "|CustomerID|InvoiceNo|StockCode|         Description|Quantity| InvoiceDate|UnitPrice|       Country|               date|          from_date|recency|\n",
      "+----------+---------+---------+--------------------+--------+------------+---------+--------------+-------------------+-------------------+-------+\n",
      "|     17850|   536365|   85123A|WHITE HANGING HEA...|       6|12/1/10 8:26|     2.55|United Kingdom|2010-12-01 08:26:00|2010-12-01 08:26:00|6156720|\n",
      "|     17850|   536365|    71053| WHITE METAL LANTERN|       6|12/1/10 8:26|     3.39|United Kingdom|2010-12-01 08:26:00|2010-12-01 08:26:00|6156720|\n",
      "|     17850|   536365|   84406B|CREAM CUPID HEART...|       8|12/1/10 8:26|     2.75|United Kingdom|2010-12-01 08:26:00|2010-12-01 08:26:00|6156720|\n",
      "|     17850|   536365|   84029G|KNITTED UNION FLA...|       6|12/1/10 8:26|     3.39|United Kingdom|2010-12-01 08:26:00|2010-12-01 08:26:00|6156720|\n",
      "|     17850|   536365|   84029E|RED WOOLLY HOTTIE...|       6|12/1/10 8:26|     3.39|United Kingdom|2010-12-01 08:26:00|2010-12-01 08:26:00|6156720|\n",
      "+----------+---------+---------+--------------------+--------+------------+---------+--------------+-------------------+-------------------+-------+\n",
      "only showing top 5 rows\n",
      "\n"
     ]
    }
   ],
   "source": [
    "df2.show(5)"
   ]
  },
  {
   "cell_type": "code",
   "execution_count": 17,
   "id": "c13d8b60",
   "metadata": {},
   "outputs": [],
   "source": [
    "df2 = df2.join(df2.groupBy('CustomerID').agg(count('InvoiceDate').alias('frequency')),on='CustomerID',how='leftouter')"
   ]
  },
  {
   "cell_type": "code",
   "execution_count": 18,
   "id": "8d224b36",
   "metadata": {},
   "outputs": [
    {
     "name": "stdout",
     "output_type": "stream",
     "text": [
      "+----------+---------+---------+--------------------+--------+------------+---------+--------------+-------------------+-------------------+-------+---------+\n",
      "|CustomerID|InvoiceNo|StockCode|         Description|Quantity| InvoiceDate|UnitPrice|       Country|               date|          from_date|recency|frequency|\n",
      "+----------+---------+---------+--------------------+--------+------------+---------+--------------+-------------------+-------------------+-------+---------+\n",
      "|     17850|   536365|   85123A|WHITE HANGING HEA...|       6|12/1/10 8:26|     2.55|United Kingdom|2010-12-01 08:26:00|2010-12-01 08:26:00|6156720|      312|\n",
      "|     17850|   536365|    71053| WHITE METAL LANTERN|       6|12/1/10 8:26|     3.39|United Kingdom|2010-12-01 08:26:00|2010-12-01 08:26:00|6156720|      312|\n",
      "|     17850|   536365|   84406B|CREAM CUPID HEART...|       8|12/1/10 8:26|     2.75|United Kingdom|2010-12-01 08:26:00|2010-12-01 08:26:00|6156720|      312|\n",
      "|     17850|   536365|   84029G|KNITTED UNION FLA...|       6|12/1/10 8:26|     3.39|United Kingdom|2010-12-01 08:26:00|2010-12-01 08:26:00|6156720|      312|\n",
      "|     17850|   536365|   84029E|RED WOOLLY HOTTIE...|       6|12/1/10 8:26|     3.39|United Kingdom|2010-12-01 08:26:00|2010-12-01 08:26:00|6156720|      312|\n",
      "+----------+---------+---------+--------------------+--------+------------+---------+--------------+-------------------+-------------------+-------+---------+\n",
      "only showing top 5 rows\n",
      "\n"
     ]
    }
   ],
   "source": [
    "df2.show(5)"
   ]
  },
  {
   "cell_type": "code",
   "execution_count": 19,
   "id": "c1033458",
   "metadata": {},
   "outputs": [
    {
     "name": "stdout",
     "output_type": "stream",
     "text": [
      "root\n",
      " |-- CustomerID: string (nullable = true)\n",
      " |-- InvoiceNo: string (nullable = true)\n",
      " |-- StockCode: string (nullable = true)\n",
      " |-- Description: string (nullable = true)\n",
      " |-- Quantity: string (nullable = true)\n",
      " |-- InvoiceDate: string (nullable = true)\n",
      " |-- UnitPrice: string (nullable = true)\n",
      " |-- Country: string (nullable = true)\n",
      " |-- date: timestamp (nullable = true)\n",
      " |-- from_date: timestamp (nullable = true)\n",
      " |-- recency: long (nullable = true)\n",
      " |-- frequency: long (nullable = true)\n",
      "\n"
     ]
    }
   ],
   "source": [
    "df2.printSchema()"
   ]
  },
  {
   "cell_type": "code",
   "execution_count": 20,
   "id": "b13e4f11",
   "metadata": {},
   "outputs": [],
   "source": [
    "df2 = df2.join(df2.groupBy('CustomerID').agg(sum(col(\"Quantity\")*col(\"UnitPrice\")).alias('monetary_value')),on='CustomerID',how='inner')"
   ]
  },
  {
   "cell_type": "code",
   "execution_count": 21,
   "id": "bc9a3c8f",
   "metadata": {},
   "outputs": [
    {
     "name": "stderr",
     "output_type": "stream",
     "text": [
      "                                                                                \r"
     ]
    },
    {
     "name": "stdout",
     "output_type": "stream",
     "text": [
      "+----------+---------+---------+----------------------------------+--------+------------+---------+--------------+-------------------+-------------------+-------+---------+--------------+\n",
      "|CustomerID|InvoiceNo|StockCode|Description                       |Quantity|InvoiceDate |UnitPrice|Country       |date               |from_date          |recency|frequency|monetary_value|\n",
      "+----------+---------+---------+----------------------------------+--------+------------+---------+--------------+-------------------+-------------------+-------+---------+--------------+\n",
      "|16250     |536388   |21754    |HOME BUILDING BLOCK WORD          |3       |12/1/10 9:59|5.95     |United Kingdom|2010-12-01 09:59:00|2010-12-01 08:26:00|9700860|24       |389.44        |\n",
      "|16250     |536388   |21755    |LOVE BUILDING BLOCK WORD          |3       |12/1/10 9:59|5.95     |United Kingdom|2010-12-01 09:59:00|2010-12-01 08:26:00|9700860|24       |389.44        |\n",
      "|16250     |536388   |21523    |DOORMAT FANCY FONT HOME SWEET HOME|2       |12/1/10 9:59|7.95     |United Kingdom|2010-12-01 09:59:00|2010-12-01 08:26:00|9700860|24       |389.44        |\n",
      "|16250     |536388   |21363    |HOME SMALL WOOD LETTERS           |3       |12/1/10 9:59|4.95     |United Kingdom|2010-12-01 09:59:00|2010-12-01 08:26:00|9700860|24       |389.44        |\n",
      "|16250     |536388   |21411    |GINGHAM HEART  DOORSTOP RED       |3       |12/1/10 9:59|4.25     |United Kingdom|2010-12-01 09:59:00|2010-12-01 08:26:00|9700860|24       |389.44        |\n",
      "+----------+---------+---------+----------------------------------+--------+------------+---------+--------------+-------------------+-------------------+-------+---------+--------------+\n",
      "only showing top 5 rows\n",
      "\n"
     ]
    }
   ],
   "source": [
    "df2.show(5,0)"
   ]
  },
  {
   "cell_type": "code",
   "execution_count": 34,
   "id": "05e0137e",
   "metadata": {},
   "outputs": [],
   "source": [
    "finaldf = df2.select(['CustomerID','recency','frequency','monetary_value']).distinct()"
   ]
  },
  {
   "cell_type": "code",
   "execution_count": 35,
   "id": "3368a6ac",
   "metadata": {},
   "outputs": [
    {
     "name": "stdout",
     "output_type": "stream",
     "text": [
      "+----------+--------+---------+-----------------+\n",
      "|CustomerID| recency|frequency|   monetary_value|\n",
      "+----------+--------+---------+-----------------+\n",
      "|     15574|16947300|      168|702.2500000000002|\n",
      "+----------+--------+---------+-----------------+\n",
      "\n"
     ]
    }
   ],
   "source": [
    "finaldf.where(\"CustomerID = 15574\").show()"
   ]
  },
  {
   "cell_type": "code",
   "execution_count": 36,
   "id": "8baa3ac6",
   "metadata": {},
   "outputs": [
    {
     "name": "stderr",
     "output_type": "stream",
     "text": [
      "\r",
      "[Stage 2016:>               (0 + 8) / 8][Stage 2018:>               (0 + 0) / 1]\r",
      "\r",
      "                                                                                \r"
     ]
    },
    {
     "name": "stdout",
     "output_type": "stream",
     "text": [
      "+----------+--------+---------+----------------------+\n",
      "|CustomerID|recency |frequency|monetary_value        |\n",
      "+----------+--------+---------+----------------------+\n",
      "|18287     |28602180|70       |1837.28               |\n",
      "|18283     |31980960|756      |2094.8799999999997    |\n",
      "|18282     |31634220|13       |176.6                 |\n",
      "|18281     |16684020|7        |80.82                 |\n",
      "|18280     |8299560 |10       |180.6                 |\n",
      "|18278     |25932720|9        |173.89999999999998    |\n",
      "|18277     |27240960|9        |97.63                 |\n",
      "|18276     |30443700|16       |323.3599999999999     |\n",
      "|18274     |30765120|22       |1.2434497875801753E-14|\n",
      "|18273     |32071800|3        |204.0                 |\n",
      "+----------+--------+---------+----------------------+\n",
      "only showing top 10 rows\n",
      "\n"
     ]
    }
   ],
   "source": [
    "finaldf.orderBy(desc(\"CustomerID\")).show(10,0)"
   ]
  },
  {
   "cell_type": "code",
   "execution_count": 25,
   "id": "70038828",
   "metadata": {},
   "outputs": [],
   "source": [
    "finaldf2 = df2.groupBy(\"CustomerID\").agg(\n",
    "                              max(col(\"date\").cast(\"long\") - col('from_date').cast(\"long\")).alias('recency'), \\\n",
    "                              count('InvoiceDate').alias('frequency'), \\\n",
    "                            sum(col(\"Quantity\")*col(\"UnitPrice\")).alias('monetary_value'))"
   ]
  },
  {
   "cell_type": "code",
   "execution_count": 26,
   "id": "6a4cbbaf",
   "metadata": {},
   "outputs": [
    {
     "name": "stdout",
     "output_type": "stream",
     "text": [
      "+----------+--------+---------+----------------------+\n",
      "|CustomerID|recency |frequency|monetary_value        |\n",
      "+----------+--------+---------+----------------------+\n",
      "|18287     |28602180|70       |1837.28               |\n",
      "|18283     |31980960|756      |2094.8799999999997    |\n",
      "|18282     |31634220|13       |176.6                 |\n",
      "|18281     |16684020|7        |80.82                 |\n",
      "|18280     |8299560 |10       |180.6                 |\n",
      "|18278     |25932720|9        |173.89999999999998    |\n",
      "|18277     |27240960|9        |97.63                 |\n",
      "|18276     |30443700|16       |323.3599999999999     |\n",
      "|18274     |30765120|22       |1.2434497875801753E-14|\n",
      "|18273     |32071800|3        |204.0                 |\n",
      "+----------+--------+---------+----------------------+\n",
      "only showing top 10 rows\n",
      "\n"
     ]
    }
   ],
   "source": [
    "finaldf2.orderBy(desc(\"CustomerID\")).show(10,0)"
   ]
  },
  {
   "cell_type": "code",
   "execution_count": 32,
   "id": "b24e6462",
   "metadata": {},
   "outputs": [],
   "source": [
    "from pyspark.ml.feature import VectorAssembler\n",
    "from pyspark.ml.feature import StandardScaler\n",
    "from pyspark.ml.clustering import KMeans\n",
    "from pyspark.ml.evaluation import ClusteringEvaluator\n",
    "import numpy as np\n",
    "import matplotlib.pyplot as plt\n",
    "import seaborn as sns\n",
    "import pandas as pd\n",
    "import pylab as pl"
   ]
  },
  {
   "cell_type": "code",
   "execution_count": 33,
   "id": "519a3f64",
   "metadata": {},
   "outputs": [
    {
     "data": {
      "image/png": "[encoded data removed]",
      "text/plain": [
       "<Figure size 640x480 with 1 Axes>"
      ]
     },
     "metadata": {},
     "output_type": "display_data"
    },
    {
     "name": "stdout",
     "output_type": "stream",
     "text": [
      "+----------+--------+---------+------------------+------------------------------------+------------------------------------------------------------+----------+\n",
      "|CustomerID|recency |frequency|monetary_value    |features                            |standardized                                                |prediction|\n",
      "+----------+--------+---------+------------------+------------------------------------+------------------------------------------------------------+----------+\n",
      "|16250     |9700860 |24       |389.44            |[9700860.0,24.0,389.44]             |[1.114195397630741,0.10323841364177119,0.047380903626278996]|3         |\n",
      "|15574     |16947300|168      |702.2500000000002 |[1.69473E7,168.0,702.2500000000002] |[1.9464875961788397,0.7226688954923983,0.08543868008307938] |3         |\n",
      "|15555     |31218780|925      |4758.200000000001 |[3.121878E7,925.0,4758.200000000001]|[3.58564302501496,3.978980525776598,0.5789025668512755]     |0         |\n",
      "|15271     |31643100|275      |2485.8199999999997|[3.16431E7,275.0,2485.8199999999997]|[3.634378435187118,1.1829401563119615,0.30243528618600257]  |0         |\n",
      "|17714     |4586760 |10       |153.0             |[4586760.0,10.0,153.0]              |[0.5268137961002197,0.04301600568407133,0.01861462164857407]|3         |\n",
      "+----------+--------+---------+------------------+------------------------------------+------------------------------------------------------------+----------+\n",
      "only showing top 5 rows\n",
      "\n"
     ]
    },
    {
     "data": {
      "image/png": "[encoded data removed]",
      "text/plain": [
       "<Figure size 640x480 with 1 Axes>"
      ]
     },
     "metadata": {},
     "output_type": "display_data"
    },
    {
     "data": {
      "image/png": "[encoded data removed]",
      "text/plain": [
       "<Figure size 640x480 with 1 Axes>"
      ]
     },
     "metadata": {},
     "output_type": "display_data"
    },
    {
     "data": {
      "image/png": "[encoded data removed]",
      "text/plain": [
       "<Figure size 640x480 with 1 Axes>"
      ]
     },
     "metadata": {},
     "output_type": "display_data"
    }
   ],
   "source": [
    "assemble=VectorAssembler(inputCols=[\n",
    "    'recency','frequency','monetary_value'\n",
    "], outputCol='features')\n",
    "\n",
    "assembled_data=assemble.transform(finaldf2)\n",
    "scale=StandardScaler(inputCol='features',outputCol='standardized')\n",
    "data_scale=scale.fit(assembled_data)\n",
    "data_scale_output=data_scale.transform(assembled_data)\n",
    "\n",
    "\n",
    "cost = np.zeros(10)\n",
    "\n",
    "evaluator = ClusteringEvaluator(predictionCol='prediction', featuresCol='standardized',metricName='silhouette', distanceMeasure='squaredEuclidean')\n",
    "\n",
    "for i in range(2,10):\n",
    "    KMeans_algo=KMeans(featuresCol='standardized', k=i)\n",
    "    KMeans_fit=KMeans_algo.fit(data_scale_output)\n",
    "    output=KMeans_fit.transform(data_scale_output)\n",
    "    cost[i] = KMeans_fit.summary.trainingCost\n",
    "\n",
    "\n",
    "df_cost = pd.DataFrame(cost[2:])\n",
    "df_cost.columns = [\"cost\"]\n",
    "new_col = range(2,10)\n",
    "df_cost.insert(0, 'cluster', new_col)\n",
    "pl.plot(df_cost.cluster, df_cost.cost)\n",
    "pl.xlabel('Number of Clusters')\n",
    "pl.ylabel('Score')\n",
    "pl.title('Elbow Curve')\n",
    "pl.show()\n",
    "\n",
    "\n",
    "KMeans_algo=KMeans(featuresCol='standardized', k=4)\n",
    "KMeans_fit=KMeans_algo.fit(data_scale_output)\n",
    "\n",
    "preds=KMeans_fit.transform(data_scale_output)\n",
    "preds.show(5,0)\n",
    "\n",
    "\n",
    "df_viz = preds.select('recency','frequency','monetary_value','prediction')\n",
    "df_viz = df_viz.toPandas()\n",
    "avg_df = df_viz.groupby(['prediction'], as_index=False).mean()\n",
    "\n",
    "list1 = ['recency','frequency','monetary_value']\n",
    "\n",
    "for i in list1:\n",
    "    sns.barplot(x='prediction',y=str(i),data=avg_df)\n",
    "    plt.show()"
   ]
  },
  {
   "cell_type": "code",
   "execution_count": null,
   "id": "084e75c6",
   "metadata": {},
   "outputs": [],
   "source": []
  },
  {
   "cell_type": "code",
   "execution_count": null,
   "id": "4eebe6dd",
   "metadata": {},
   "outputs": [],
   "source": []
  },
  {
   "cell_type": "code",
   "execution_count": null,
   "id": "874b7f20",
   "metadata": {},
   "outputs": [],
   "source": []
  },
  {
   "cell_type": "code",
   "execution_count": null,
   "id": "37f92ece",
   "metadata": {},
   "outputs": [],
   "source": []
  },
  {
   "cell_type": "code",
   "execution_count": null,
   "id": "bef2500b",
   "metadata": {},
   "outputs": [],
   "source": []
  },
  {
   "cell_type": "code",
   "execution_count": null,
   "id": "85bb91af",
   "metadata": {},
   "outputs": [],
   "source": []
  },
  {
   "cell_type": "code",
   "execution_count": null,
   "id": "eab4b1c6",
   "metadata": {},
   "outputs": [],
   "source": []
  },
  {
   "cell_type": "code",
   "execution_count": null,
   "id": "47ece979",
   "metadata": {},
   "outputs": [],
   "source": []
  },
  {
   "cell_type": "code",
   "execution_count": null,
   "id": "43b4c05e",
   "metadata": {},
   "outputs": [],
   "source": []
  },
  {
   "cell_type": "code",
   "execution_count": null,
   "id": "68e2e49d",
   "metadata": {},
   "outputs": [],
   "source": []
  },
  {
   "cell_type": "code",
   "execution_count": null,
   "id": "608b313c",
   "metadata": {},
   "outputs": [],
   "source": []
  },
  {
   "cell_type": "code",
   "execution_count": null,
   "id": "ec93974a",
   "metadata": {},
   "outputs": [],
   "source": []
  },
  {
   "cell_type": "code",
   "execution_count": null,
   "id": "f07967e2",
   "metadata": {},
   "outputs": [],
   "source": []
  },
  {
   "cell_type": "code",
   "execution_count": null,
   "id": "1d2c0397",
   "metadata": {},
   "outputs": [],
   "source": []
  },
  {
   "cell_type": "code",
   "execution_count": null,
   "id": "c443734f",
   "metadata": {},
   "outputs": [],
   "source": []
  },
  {
   "cell_type": "code",
   "execution_count": null,
   "id": "a535c445",
   "metadata": {},
   "outputs": [],
   "source": []
  }
 ],
 "metadata": {
  "kernelspec": {
   "display_name": "Python 3 (ipykernel)",
   "language": "python",
   "name": "python3"
  },
  "language_info": {
   "codemirror_mode": {
    "name": "ipython",
    "version": 3
   },
   "file_extension": ".py",
   "mimetype": "text/x-python",
   "name": "python",
   "nbconvert_exporter": "python",
   "pygments_lexer": "ipython3",
   "version": "3.11.6"
  }
 },
 "nbformat": 4,
 "nbformat_minor": 5
}
